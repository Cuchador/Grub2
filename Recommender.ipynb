{
 "cells": [
  {
   "cell_type": "code",
   "execution_count": 5,
   "id": "5ba75992",
   "metadata": {},
   "outputs": [],
   "source": [
    "import pandas as pd\n",
    "import numpy as np\n"
   ]
  },
  {
   "cell_type": "code",
   "execution_count": 6,
   "id": "43c9c3be",
   "metadata": {},
   "outputs": [],
   "source": [
    "import ast  \n",
    "movies = pd.read_csv('movies_1.0.csv')\n",
    "\n",
    "\n",
    "#sets movieId as the key\n",
    "movies.set_index('movieId', inplace=True)\n",
    "\n",
    "#converts genre to list\n",
    "movies['genres'] = movies['genres'].apply(ast.literal_eval)\n",
    "\n",
    "\n",
    "lf_matrix = pd.read_csv('movie_latent_factors_1.0.csv', header=None).values.tolist()"
   ]
  },
  {
   "cell_type": "code",
   "execution_count": 7,
   "id": "48ba1a5e",
   "metadata": {},
   "outputs": [],
   "source": [
    "decades = [1980, 2000]\n",
    "genres = ['Action', 'Fantasy']"
   ]
  },
  {
   "cell_type": "code",
   "execution_count": 8,
   "id": "c9369ed4",
   "metadata": {
    "scrolled": true
   },
   "outputs": [],
   "source": [
    "#gets subset of movies captured by filters\n",
    "genres_filter = (len(genres) == 0) | (movies['genres'].apply(lambda x: any(genre in x for genre in genres)))\n",
    "decades_filter = (len(decades) == 0) | (movies['year'].apply(lambda x: any(x >= decade and x < decade + 10 for decade in decades)))\n",
    "\n",
    "filtered_movies = movies[genres_filter & decades_filter]\n"
   ]
  },
  {
   "cell_type": "code",
   "execution_count": 9,
   "id": "9a90c219",
   "metadata": {},
   "outputs": [
    {
     "name": "stdout",
     "output_type": "stream",
     "text": [
      "The 5 highest ranked for the query are: \n",
      "0.9497888042987518 | Mulan (2009)\n",
      "0.9469898874446199 | Wow! A Talking Fish! (1983)\n",
      "0.9333195152618642 | Sky Fighters (Les Chevaliers Du Ciel) (2005)\n",
      "0.9136343426932692 | Christmas Carol, A (2009)\n",
      "0.9006689697330236 | High Security Vacation (2009)\n"
     ]
    }
   ],
   "source": [
    "from numpy.linalg import norm\n",
    "def cosine_sim(vec1, vec2):\n",
    "    sim = 0\n",
    "    if norm(vec1) != 0 and norm(vec2) != 0:\n",
    "        sim = np.dot(vec1, vec2) / (norm(vec1) * norm(vec2))\n",
    "    return sim\n",
    "\n",
    "#movie used to get recommendation\n",
    "movie1 = 'Chef (2014)'\n",
    "movie2 = 'Coco (2017)'\n",
    "\n",
    "# search = movies[movies['title'].str.contains(movie, case=False, na=False)]\n",
    "\n",
    "movie_index1 = movies.loc[movies['title'] == movie1].index[0]\n",
    "movie_index2 = movies.loc[movies['title'] == movie2].index[0]\n",
    "\n",
    "movie_vec1 = np.array(lf_matrix[movie_index1])\n",
    "movie_vec2 = np.array(lf_matrix[movie_index2])\n",
    "\n",
    "avg_vec = movie_vec1 + movie_vec2 / 2\n",
    "\n",
    "# goes through filtered movies to get highest consine similarity\n",
    "sim_list = []\n",
    "movie_list = []\n",
    "for id in filtered_movies.index:\n",
    "    movie_vec = lf_matrix[id]\n",
    "    sim = cosine_sim(avg_vec, movie_vec)\n",
    "    sim_list.append(sim)\n",
    "    movie_list.append(id)\n",
    "\n",
    "combined_lists = list(zip(sim_list, movie_list))\n",
    "sorted_combined_lists = sorted(combined_lists, key=lambda x: x[0], reverse = True)\n",
    "sim_list, movie_list = zip(*sorted_combined_lists)\n",
    "\n",
    "print(\"The 5 highest ranked for the query are: \")\n",
    "\n",
    "for i in range(5):\n",
    "    print(sim_list[i], '|', movies.loc[movie_list[i]]['title'])\n"
   ]
  },
  {
   "cell_type": "code",
   "execution_count": null,
   "id": "9d3a7c13",
   "metadata": {},
   "outputs": [],
   "source": []
  },
  {
   "cell_type": "code",
   "execution_count": null,
   "id": "a244d592",
   "metadata": {},
   "outputs": [],
   "source": []
  }
 ],
 "metadata": {
  "kernelspec": {
   "display_name": "Python 3 (ipykernel)",
   "language": "python",
   "name": "python3"
  },
  "language_info": {
   "codemirror_mode": {
    "name": "ipython",
    "version": 3
   },
   "file_extension": ".py",
   "mimetype": "text/x-python",
   "name": "python",
   "nbconvert_exporter": "python",
   "pygments_lexer": "ipython3",
   "version": "3.9.7"
  }
 },
 "nbformat": 4,
 "nbformat_minor": 5
}
