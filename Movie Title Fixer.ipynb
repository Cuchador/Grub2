{
 "cells": [
  {
   "cell_type": "code",
   "execution_count": 1,
   "id": "42928f58",
   "metadata": {},
   "outputs": [],
   "source": [
    "import pandas as pd\n",
    "import numpy as np"
   ]
  },
  {
   "cell_type": "code",
   "execution_count": 3,
   "id": "fbccb777",
   "metadata": {},
   "outputs": [
    {
     "name": "stdout",
     "output_type": "stream",
     "text": [
      "                                      title  \\\n",
      "movieId                                       \n",
      "1                          Toy Story (1995)   \n",
      "2                            Jumanji (1995)   \n",
      "3                   Grumpier Old Men (1995)   \n",
      "4                  Waiting to Exhale (1995)   \n",
      "5        Father of the Bride Part II (1995)   \n",
      "...                                     ...   \n",
      "209157                            We (2018)   \n",
      "209159            Window of the Soul (2001)   \n",
      "209163                     Bad Poems (2018)   \n",
      "209169                  A Girl Thing (2001)   \n",
      "209171       Women of Devil's Island (1962)   \n",
      "\n",
      "                                                    genres    year  freq  \n",
      "movieId                                                                   \n",
      "1        ['Adventure', 'Animation', 'Children', 'Comedy...  1995.0  3529  \n",
      "2                     ['Adventure', 'Children', 'Fantasy']  1995.0  1433  \n",
      "3                                    ['Comedy', 'Romance']  1995.0   730  \n",
      "4                           ['Comedy', 'Drama', 'Romance']  1995.0   147  \n",
      "5                                               ['Comedy']  1995.0   725  \n",
      "...                                                    ...     ...   ...  \n",
      "209157                                           ['Drama']  2018.0     0  \n",
      "209159                                     ['Documentary']  2001.0     0  \n",
      "209163                                 ['Comedy', 'Drama']  2018.0     1  \n",
      "209169                                                  []  2001.0     0  \n",
      "209171                    ['Action', 'Adventure', 'Drama']  1962.0     0  \n",
      "\n",
      "[62423 rows x 4 columns]\n"
     ]
    }
   ],
   "source": [
    "movies = pd.read_csv('movies.csv')\n",
    "\n",
    "#sets movieId as the key\n",
    "movies.set_index('movieId', inplace=True)\n",
    "\n",
    "#moves The to the front of movie titles\n",
    "mask = movies['title'].str.contains(\", The\", na=False)\n",
    "movies.loc[mask, 'title'] = 'The ' + movies.loc[mask, 'title'].str.replace(\", The\", \"\", regex=False)\n",
    "\n",
    "print(movies)"
   ]
  },
  {
   "cell_type": "code",
   "execution_count": 4,
   "id": "b7d4e95c",
   "metadata": {},
   "outputs": [],
   "source": [
    "movies.to_csv('movies.csv')"
   ]
  },
  {
   "cell_type": "code",
   "execution_count": null,
   "id": "abd06b76",
   "metadata": {},
   "outputs": [],
   "source": []
  }
 ],
 "metadata": {
  "kernelspec": {
   "display_name": "Python 3 (ipykernel)",
   "language": "python",
   "name": "python3"
  },
  "language_info": {
   "codemirror_mode": {
    "name": "ipython",
    "version": 3
   },
   "file_extension": ".py",
   "mimetype": "text/x-python",
   "name": "python",
   "nbconvert_exporter": "python",
   "pygments_lexer": "ipython3",
   "version": "3.9.7"
  }
 },
 "nbformat": 4,
 "nbformat_minor": 5
}
