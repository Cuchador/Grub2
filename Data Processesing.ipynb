{
 "cells": [
  {
   "cell_type": "code",
   "execution_count": 1,
   "id": "fcf0d0c3",
   "metadata": {},
   "outputs": [],
   "source": [
    "import pandas as pd\n",
    "import numpy as np"
   ]
  },
  {
   "cell_type": "code",
   "execution_count": 2,
   "id": "46ccc994",
   "metadata": {},
   "outputs": [],
   "source": [
    "movies = pd.read_csv('movies.csv')\n",
    "\n",
    "#sets movieId as the key\n",
    "movies.set_index('movieId', inplace=True)\n",
    "\n",
    "#converts genre into a list of genres while returning no genres as an empty list\n",
    "movies['genres'] = movies['genres'].apply(lambda x: x.split('|') if x != '(no genres listed)' else [])\n",
    "\n",
    "#creates column for year by extracting from title\n",
    "movies['year'] = movies['title'].str.extract(r'\\((\\d{4})\\)')\n",
    "\n",
    "movies['freq'] = 0\n",
    "\n",
    "\n",
    "\n",
    "\n",
    "\n",
    "\n"
   ]
  },
  {
   "cell_type": "code",
   "execution_count": 4,
   "id": "bbe5af78",
   "metadata": {},
   "outputs": [],
   "source": [
    "#ratings.csv is too large for github it can be found online here https://www.kaggle.com/datasets/parasharmanas/movie-recommendation-system/data\n",
    "ratings = pd.read_csv('ratings.csv')"
   ]
  },
  {
   "cell_type": "code",
   "execution_count": 5,
   "id": "43edcbdf",
   "metadata": {},
   "outputs": [],
   "source": [
    "#cast ids to ints\n",
    "ratings['userId'] = ratings['userId'].astype(int)\n",
    "ratings['movieId'] = ratings['movieId'].astype(int)"
   ]
  },
  {
   "cell_type": "code",
   "execution_count": 6,
   "id": "6c182e4e",
   "metadata": {},
   "outputs": [
    {
     "name": "stdout",
     "output_type": "stream",
     "text": [
      "Index(['title', 'genres', 'year', 'freq'], dtype='object')\n"
     ]
    }
   ],
   "source": [
    "max_userId = ratings['userId'].max()\n",
    "print(movies.columns)\n",
    "max_movieId = movies.index.max()\n",
    "num_users = 10000\n",
    "user_rating_matrix = np.zeros((num_users + 1, max_movieId + 1))\n",
    "\n"
   ]
  },
  {
   "cell_type": "code",
   "execution_count": 13,
   "id": "39109196",
   "metadata": {},
   "outputs": [],
   "source": [
    "\n",
    "for index, row in ratings.iterrows():\n",
    "    userId = row['userId']\n",
    "    if userId > num_users:\n",
    "        break\n",
    "    movieId = row['movieId']\n",
    "    rating = row['rating']\n",
    "    user_rating_matrix[int(userId)][int(movieId)] = rating\n",
    "    movies.loc[int(movieId), 'freq'] += 1\n",
    "       "
   ]
  },
  {
   "cell_type": "code",
   "execution_count": 15,
   "metadata": {},
   "outputs": [],
   "source": [
    "movies.to_csv('movies_1.0.csv')"
   ]
  },
  {
   "cell_type": "code",
   "execution_count": null,
   "id": "ef079f13",
   "metadata": {},
   "outputs": [],
   "source": [
    "import numpy as np\n",
    "from sklearn.decomposition import TruncatedSVD\n",
    "\n",
    "n_latent_factors = 5 \n",
    "\n",
    "svd = TruncatedSVD(n_components=n_latent_factors)\n",
    "svd.fit(user_rating_matrix)\n",
    "\n",
    "# Extract user (P) and movie (Q) latent factors\n",
    "P = svd.transform(user_rating_matrix)\n",
    "Q = svd.components_.T\n",
    "\n"
   ]
  },
  {
   "cell_type": "code",
   "execution_count": null,
   "id": "2445fe63",
   "metadata": {},
   "outputs": [
    {
     "name": "stdout",
     "output_type": "stream",
     "text": [
      "(209172, 10)\n"
     ]
    }
   ],
   "source": [
    "print(Q.shape)"
   ]
  },
  {
   "cell_type": "code",
   "execution_count": null,
   "id": "e36e1e02",
   "metadata": {
    "scrolled": true
   },
   "outputs": [
    {
     "name": "stdout",
     "output_type": "stream",
     "text": [
      "CSV data has been written to movie_latent_factors_1.0.csv\n"
     ]
    }
   ],
   "source": [
    "import csv\n",
    "csv_file = \"movie_latent_factors_1.0.csv\"\n",
    "with open(csv_file, mode='w', newline='') as file:\n",
    "    writer = csv.writer(file)\n",
    "\n",
    "    # Write data rows with row labels\n",
    "    for i, row in enumerate(Q):\n",
    "        writer.writerow(row)\n",
    "    \n",
    "print(f\"CSV data has been written to {csv_file}\")"
   ]
  },
  {
   "cell_type": "code",
   "execution_count": null,
   "id": "be98e1d9",
   "metadata": {},
   "outputs": [
    {
     "name": "stdout",
     "output_type": "stream",
     "text": [
      "The 5 highest ranked for the movie, Untouchables, The (1987) , are:\n",
      "0.9697128554305895 | Rocky (1976)\n",
      "0.9506571568954755 | Platoon (1986)\n",
      "0.9342225949087819 | Hunt for Red October, The (1990)\n",
      "0.9107298656564338 | Lethal Weapon (1987)\n",
      "0.8677048205886808 | Midnight Run (1988)\n"
     ]
    }
   ],
   "source": [
    "from numpy.linalg import norm\n",
    "def cosine_sim(vec1, vec2):\n",
    "  sim = 0\n",
    "  if norm(vec1) != 0 and norm(vec2) != 0:\n",
    "    sim = np.dot(vec1, vec2) / (norm(vec1) * norm(vec2))\n",
    "  return sim\n",
    "\n",
    "sim_list = []\n",
    "movie_list = []\n",
    "id = 2194\n",
    "lat_1 = Q[id]\n",
    "\n",
    "for i in range(len(Q)):\n",
    "    if(i != id):\n",
    "        lat_2 = Q[i]\n",
    "        sim = cosine_sim(lat_1, lat_2)\n",
    "        sim_list.append(sim)\n",
    "        movie_list.append(i)\n",
    "\n",
    "combined_lists = list(zip(sim_list, movie_list))\n",
    "sorted_combined_lists = sorted(combined_lists, key=lambda x: x[0], reverse = True)\n",
    "sim_list, movie_list = zip(*sorted_combined_lists)\n",
    "\n",
    "print(\"The 5 highest ranked for the movie,\",movies.loc[id]['title'],\", are:\")\n",
    "\n",
    "for i in range(5):\n",
    "    print(sim_list[i], '|', movies.loc[movie_list[i]]['title'])\n",
    "\n",
    "\n"
   ]
  },
  {
   "cell_type": "code",
   "execution_count": null,
   "id": "7eb31ad3",
   "metadata": {},
   "outputs": [],
   "source": []
  }
 ],
 "metadata": {
  "kernelspec": {
   "display_name": "Python 3 (ipykernel)",
   "language": "python",
   "name": "python3"
  },
  "language_info": {
   "codemirror_mode": {
    "name": "ipython",
    "version": 3
   },
   "file_extension": ".py",
   "mimetype": "text/x-python",
   "name": "python",
   "nbconvert_exporter": "python",
   "pygments_lexer": "ipython3",
   "version": "3.9.7"
  }
 },
 "nbformat": 4,
 "nbformat_minor": 5
}
