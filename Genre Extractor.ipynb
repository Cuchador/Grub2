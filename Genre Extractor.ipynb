{
 "cells": [
  {
   "cell_type": "code",
   "execution_count": 1,
   "id": "42928f58",
   "metadata": {},
   "outputs": [],
   "source": [
    "import pandas as pd\n",
    "import numpy as np"
   ]
  },
  {
   "cell_type": "code",
   "execution_count": 2,
   "id": "fbccb777",
   "metadata": {},
   "outputs": [],
   "source": [
    "movies = pd.read_csv('movies.csv')\n",
    "\n",
    "#sets movieId as the key\n",
    "movies.set_index('movieId', inplace=True)\n",
    "\n",
    "#converts genre into a list of genres while returning no genres as an empty list\n",
    "movies['genres'] = movies['genres'].apply(lambda x: x.split('|') if x != '(no genres listed)' else [])\n",
    "\n",
    "#creates column for year by extracting from title\n",
    "movies['year'] = movies['title'].str.extract(r'\\((\\d{4})\\)')\n"
   ]
  },
  {
   "cell_type": "code",
   "execution_count": 6,
   "id": "b7d4e95c",
   "metadata": {},
   "outputs": [],
   "source": [
    "#gets all unique genres\n",
    "all_genres = [genre for genres_list in movies['genres'] for genre in genres_list]\n",
    "\n",
    "distinct_genres = list(set(all_genres))\n",
    "\n",
    "genres = pd.DataFrame({'Genres': distinct_genres})\n",
    "\n",
    "\n",
    "genres.to_csv('genres.csv', index=False)"
   ]
  },
  {
   "cell_type": "code",
   "execution_count": null,
   "id": "abd06b76",
   "metadata": {},
   "outputs": [],
   "source": []
  }
 ],
 "metadata": {
  "kernelspec": {
   "display_name": "Python 3 (ipykernel)",
   "language": "python",
   "name": "python3"
  },
  "language_info": {
   "codemirror_mode": {
    "name": "ipython",
    "version": 3
   },
   "file_extension": ".py",
   "mimetype": "text/x-python",
   "name": "python",
   "nbconvert_exporter": "python",
   "pygments_lexer": "ipython3",
   "version": "3.9.7"
  }
 },
 "nbformat": 4,
 "nbformat_minor": 5
}
