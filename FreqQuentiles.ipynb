{
 "cells": [
  {
   "cell_type": "code",
   "execution_count": 6,
   "id": "42928f58",
   "metadata": {},
   "outputs": [],
   "source": [
    "import pandas as pd\n",
    "import numpy as np"
   ]
  },
  {
   "cell_type": "code",
   "execution_count": 10,
   "id": "fbccb777",
   "metadata": {},
   "outputs": [],
   "source": [
    "movies = pd.read_csv('movies.csv')\n",
    "\n",
    "#sets movieId as the key\n",
    "movies.set_index('movieId', inplace=True)\n",
    "\n",
    "\n",
    "quintiles = np.percentile(movies[movies['freq'] > 1]['freq'], [20, 40, 60, 80])\n",
    "\n"
   ]
  },
  {
   "cell_type": "code",
   "execution_count": 14,
   "id": "abd06b76",
   "metadata": {},
   "outputs": [],
   "source": [
    "# Create a DataFrame for the quintile values\n",
    "quintiles_df = pd.DataFrame({\n",
    "    'Popularity': [2, 3, 4, 5],\n",
    "    'Frequency': quintiles\n",
    "})\n",
    "\n",
    "# Write the DataFrame to a new CSV file\n",
    "quintiles_df.to_csv('FreqThresholds.csv', index=False)\n"
   ]
  }
 ],
 "metadata": {
  "kernelspec": {
   "display_name": "Python 3 (ipykernel)",
   "language": "python",
   "name": "python3"
  },
  "language_info": {
   "codemirror_mode": {
    "name": "ipython",
    "version": 3
   },
   "file_extension": ".py",
   "mimetype": "text/x-python",
   "name": "python",
   "nbconvert_exporter": "python",
   "pygments_lexer": "ipython3",
   "version": "3.9.7"
  }
 },
 "nbformat": 4,
 "nbformat_minor": 5
}
